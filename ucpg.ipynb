{
 "cells": [
  {
   "cell_type": "markdown",
   "metadata": {},
   "source": [
    " Predict the price of a used vehicle in Germany based on features : "
   ]
  },
  {
   "cell_type": "markdown",
   "metadata": {},
   "source": [
    "Gather and Load Data"
   ]
  },
  {
   "cell_type": "code",
   "execution_count": 1,
   "metadata": {},
   "outputs": [
    {
     "data": {
      "text/html": [
       "<div>\n",
       "<style scoped>\n",
       "    .dataframe tbody tr th:only-of-type {\n",
       "        vertical-align: middle;\n",
       "    }\n",
       "\n",
       "    .dataframe tbody tr th {\n",
       "        vertical-align: top;\n",
       "    }\n",
       "\n",
       "    .dataframe thead th {\n",
       "        text-align: right;\n",
       "    }\n",
       "</style>\n",
       "<table border=\"1\" class=\"dataframe\">\n",
       "  <thead>\n",
       "    <tr style=\"text-align: right;\">\n",
       "      <th></th>\n",
       "      <th>Unnamed: 0</th>\n",
       "      <th>brand</th>\n",
       "      <th>model</th>\n",
       "      <th>color</th>\n",
       "      <th>registration_date</th>\n",
       "      <th>year</th>\n",
       "      <th>price_in_euro</th>\n",
       "      <th>power_kw</th>\n",
       "      <th>power_ps</th>\n",
       "      <th>transmission_type</th>\n",
       "      <th>fuel_type</th>\n",
       "      <th>fuel_consumption_l_100km</th>\n",
       "      <th>fuel_consumption_g_km</th>\n",
       "      <th>mileage_in_km</th>\n",
       "      <th>offer_description</th>\n",
       "    </tr>\n",
       "  </thead>\n",
       "  <tbody>\n",
       "    <tr>\n",
       "      <th>0</th>\n",
       "      <td>0</td>\n",
       "      <td>alfa-romeo</td>\n",
       "      <td>Alfa Romeo GTV</td>\n",
       "      <td>red</td>\n",
       "      <td>10/1995</td>\n",
       "      <td>1995</td>\n",
       "      <td>1300</td>\n",
       "      <td>148</td>\n",
       "      <td>201</td>\n",
       "      <td>Manual</td>\n",
       "      <td>Petrol</td>\n",
       "      <td>10,9 l/100 km</td>\n",
       "      <td>260 g/km</td>\n",
       "      <td>160500.0</td>\n",
       "      <td>2.0 V6 TB</td>\n",
       "    </tr>\n",
       "    <tr>\n",
       "      <th>1</th>\n",
       "      <td>1</td>\n",
       "      <td>alfa-romeo</td>\n",
       "      <td>Alfa Romeo 164</td>\n",
       "      <td>black</td>\n",
       "      <td>02/1995</td>\n",
       "      <td>1995</td>\n",
       "      <td>24900</td>\n",
       "      <td>191</td>\n",
       "      <td>260</td>\n",
       "      <td>Manual</td>\n",
       "      <td>Petrol</td>\n",
       "      <td>NaN</td>\n",
       "      <td>- (g/km)</td>\n",
       "      <td>190000.0</td>\n",
       "      <td>Q4 Allrad, 3.2L GTA</td>\n",
       "    </tr>\n",
       "    <tr>\n",
       "      <th>2</th>\n",
       "      <td>2</td>\n",
       "      <td>alfa-romeo</td>\n",
       "      <td>Alfa Romeo Spider</td>\n",
       "      <td>black</td>\n",
       "      <td>02/1995</td>\n",
       "      <td>1995</td>\n",
       "      <td>5900</td>\n",
       "      <td>110</td>\n",
       "      <td>150</td>\n",
       "      <td>Unknown</td>\n",
       "      <td>Petrol</td>\n",
       "      <td>NaN</td>\n",
       "      <td>- (g/km)</td>\n",
       "      <td>129000.0</td>\n",
       "      <td>ALFA ROME 916</td>\n",
       "    </tr>\n",
       "    <tr>\n",
       "      <th>3</th>\n",
       "      <td>3</td>\n",
       "      <td>alfa-romeo</td>\n",
       "      <td>Alfa Romeo Spider</td>\n",
       "      <td>black</td>\n",
       "      <td>07/1995</td>\n",
       "      <td>1995</td>\n",
       "      <td>4900</td>\n",
       "      <td>110</td>\n",
       "      <td>150</td>\n",
       "      <td>Manual</td>\n",
       "      <td>Petrol</td>\n",
       "      <td>9,5 l/100 km</td>\n",
       "      <td>225 g/km</td>\n",
       "      <td>189500.0</td>\n",
       "      <td>2.0 16V Twin Spark L</td>\n",
       "    </tr>\n",
       "    <tr>\n",
       "      <th>4</th>\n",
       "      <td>4</td>\n",
       "      <td>alfa-romeo</td>\n",
       "      <td>Alfa Romeo 164</td>\n",
       "      <td>red</td>\n",
       "      <td>11/1996</td>\n",
       "      <td>1996</td>\n",
       "      <td>17950</td>\n",
       "      <td>132</td>\n",
       "      <td>179</td>\n",
       "      <td>Manual</td>\n",
       "      <td>Petrol</td>\n",
       "      <td>7,2 l/100 km</td>\n",
       "      <td>- (g/km)</td>\n",
       "      <td>96127.0</td>\n",
       "      <td>3.0i Super V6, absoluter Topzustand !</td>\n",
       "    </tr>\n",
       "  </tbody>\n",
       "</table>\n",
       "</div>"
      ],
      "text/plain": [
       "   Unnamed: 0       brand              model  color registration_date  year  \\\n",
       "0           0  alfa-romeo     Alfa Romeo GTV    red           10/1995  1995   \n",
       "1           1  alfa-romeo     Alfa Romeo 164  black           02/1995  1995   \n",
       "2           2  alfa-romeo  Alfa Romeo Spider  black           02/1995  1995   \n",
       "3           3  alfa-romeo  Alfa Romeo Spider  black           07/1995  1995   \n",
       "4           4  alfa-romeo     Alfa Romeo 164    red           11/1996  1996   \n",
       "\n",
       "  price_in_euro power_kw power_ps transmission_type fuel_type  \\\n",
       "0          1300      148      201            Manual    Petrol   \n",
       "1         24900      191      260            Manual    Petrol   \n",
       "2          5900      110      150           Unknown    Petrol   \n",
       "3          4900      110      150            Manual    Petrol   \n",
       "4         17950      132      179            Manual    Petrol   \n",
       "\n",
       "  fuel_consumption_l_100km fuel_consumption_g_km  mileage_in_km  \\\n",
       "0            10,9 l/100 km              260 g/km       160500.0   \n",
       "1                      NaN              - (g/km)       190000.0   \n",
       "2                      NaN              - (g/km)       129000.0   \n",
       "3             9,5 l/100 km              225 g/km       189500.0   \n",
       "4             7,2 l/100 km              - (g/km)        96127.0   \n",
       "\n",
       "                       offer_description  \n",
       "0                              2.0 V6 TB  \n",
       "1                    Q4 Allrad, 3.2L GTA  \n",
       "2                          ALFA ROME 916  \n",
       "3                   2.0 16V Twin Spark L  \n",
       "4  3.0i Super V6, absoluter Topzustand !  "
      ]
     },
     "execution_count": 1,
     "metadata": {},
     "output_type": "execute_result"
    }
   ],
   "source": [
    "import pandas as pd\n",
    "\n",
    "df = pd.read_csv('data.csv')\n",
    "df.head()"
   ]
  },
  {
   "cell_type": "markdown",
   "metadata": {},
   "source": [
    "Data Exploration and Cleaning"
   ]
  },
  {
   "cell_type": "code",
   "execution_count": null,
   "metadata": {},
   "outputs": [],
   "source": [
    "df = df.drop(columns=['color', 'registration_date', 'offer_description'])"
   ]
  },
  {
   "cell_type": "code",
   "execution_count": 6,
   "metadata": {},
   "outputs": [
    {
     "data": {
      "text/html": [
       "<div>\n",
       "<style scoped>\n",
       "    .dataframe tbody tr th:only-of-type {\n",
       "        vertical-align: middle;\n",
       "    }\n",
       "\n",
       "    .dataframe tbody tr th {\n",
       "        vertical-align: top;\n",
       "    }\n",
       "\n",
       "    .dataframe thead th {\n",
       "        text-align: right;\n",
       "    }\n",
       "</style>\n",
       "<table border=\"1\" class=\"dataframe\">\n",
       "  <thead>\n",
       "    <tr style=\"text-align: right;\">\n",
       "      <th></th>\n",
       "      <th>Unnamed: 0</th>\n",
       "      <th>brand</th>\n",
       "      <th>model</th>\n",
       "      <th>year</th>\n",
       "      <th>price_in_euro</th>\n",
       "      <th>power_kw</th>\n",
       "      <th>power_ps</th>\n",
       "      <th>transmission_type</th>\n",
       "      <th>fuel_type</th>\n",
       "      <th>fuel_consumption_l_100km</th>\n",
       "      <th>fuel_consumption_g_km</th>\n",
       "      <th>mileage_in_km</th>\n",
       "    </tr>\n",
       "  </thead>\n",
       "  <tbody>\n",
       "    <tr>\n",
       "      <th>0</th>\n",
       "      <td>0</td>\n",
       "      <td>alfa-romeo</td>\n",
       "      <td>Alfa Romeo GTV</td>\n",
       "      <td>1995</td>\n",
       "      <td>1300</td>\n",
       "      <td>148</td>\n",
       "      <td>201</td>\n",
       "      <td>Manual</td>\n",
       "      <td>Petrol</td>\n",
       "      <td>10,9 l/100 km</td>\n",
       "      <td>260 g/km</td>\n",
       "      <td>160500.0</td>\n",
       "    </tr>\n",
       "    <tr>\n",
       "      <th>1</th>\n",
       "      <td>1</td>\n",
       "      <td>alfa-romeo</td>\n",
       "      <td>Alfa Romeo 164</td>\n",
       "      <td>1995</td>\n",
       "      <td>24900</td>\n",
       "      <td>191</td>\n",
       "      <td>260</td>\n",
       "      <td>Manual</td>\n",
       "      <td>Petrol</td>\n",
       "      <td>NaN</td>\n",
       "      <td>- (g/km)</td>\n",
       "      <td>190000.0</td>\n",
       "    </tr>\n",
       "    <tr>\n",
       "      <th>2</th>\n",
       "      <td>2</td>\n",
       "      <td>alfa-romeo</td>\n",
       "      <td>Alfa Romeo Spider</td>\n",
       "      <td>1995</td>\n",
       "      <td>5900</td>\n",
       "      <td>110</td>\n",
       "      <td>150</td>\n",
       "      <td>Unknown</td>\n",
       "      <td>Petrol</td>\n",
       "      <td>NaN</td>\n",
       "      <td>- (g/km)</td>\n",
       "      <td>129000.0</td>\n",
       "    </tr>\n",
       "    <tr>\n",
       "      <th>3</th>\n",
       "      <td>3</td>\n",
       "      <td>alfa-romeo</td>\n",
       "      <td>Alfa Romeo Spider</td>\n",
       "      <td>1995</td>\n",
       "      <td>4900</td>\n",
       "      <td>110</td>\n",
       "      <td>150</td>\n",
       "      <td>Manual</td>\n",
       "      <td>Petrol</td>\n",
       "      <td>9,5 l/100 km</td>\n",
       "      <td>225 g/km</td>\n",
       "      <td>189500.0</td>\n",
       "    </tr>\n",
       "    <tr>\n",
       "      <th>4</th>\n",
       "      <td>4</td>\n",
       "      <td>alfa-romeo</td>\n",
       "      <td>Alfa Romeo 164</td>\n",
       "      <td>1996</td>\n",
       "      <td>17950</td>\n",
       "      <td>132</td>\n",
       "      <td>179</td>\n",
       "      <td>Manual</td>\n",
       "      <td>Petrol</td>\n",
       "      <td>7,2 l/100 km</td>\n",
       "      <td>- (g/km)</td>\n",
       "      <td>96127.0</td>\n",
       "    </tr>\n",
       "  </tbody>\n",
       "</table>\n",
       "</div>"
      ],
      "text/plain": [
       "   Unnamed: 0       brand              model  year price_in_euro power_kw  \\\n",
       "0           0  alfa-romeo     Alfa Romeo GTV  1995          1300      148   \n",
       "1           1  alfa-romeo     Alfa Romeo 164  1995         24900      191   \n",
       "2           2  alfa-romeo  Alfa Romeo Spider  1995          5900      110   \n",
       "3           3  alfa-romeo  Alfa Romeo Spider  1995          4900      110   \n",
       "4           4  alfa-romeo     Alfa Romeo 164  1996         17950      132   \n",
       "\n",
       "  power_ps transmission_type fuel_type fuel_consumption_l_100km  \\\n",
       "0      201            Manual    Petrol            10,9 l/100 km   \n",
       "1      260            Manual    Petrol                      NaN   \n",
       "2      150           Unknown    Petrol                      NaN   \n",
       "3      150            Manual    Petrol             9,5 l/100 km   \n",
       "4      179            Manual    Petrol             7,2 l/100 km   \n",
       "\n",
       "  fuel_consumption_g_km  mileage_in_km  \n",
       "0              260 g/km       160500.0  \n",
       "1              - (g/km)       190000.0  \n",
       "2              - (g/km)       129000.0  \n",
       "3              225 g/km       189500.0  \n",
       "4              - (g/km)        96127.0  "
      ]
     },
     "execution_count": 6,
     "metadata": {},
     "output_type": "execute_result"
    }
   ],
   "source": [
    "df.head()"
   ]
  },
  {
   "cell_type": "code",
   "execution_count": 7,
   "metadata": {},
   "outputs": [
    {
     "name": "stdout",
     "output_type": "stream",
     "text": [
      "Unnamed: 0                      0\n",
      "brand                           0\n",
      "model                           0\n",
      "year                            0\n",
      "price_in_euro                   0\n",
      "power_kw                      134\n",
      "power_ps                      129\n",
      "transmission_type               0\n",
      "fuel_type                       0\n",
      "fuel_consumption_l_100km    26873\n",
      "fuel_consumption_g_km           0\n",
      "mileage_in_km                 152\n",
      "dtype: int64\n"
     ]
    }
   ],
   "source": [
    "print(df.isnull().sum())"
   ]
  },
  {
   "cell_type": "code",
   "execution_count": 8,
   "metadata": {},
   "outputs": [
    {
     "name": "stdout",
     "output_type": "stream",
     "text": [
      "Unnamed: 0                    int64\n",
      "brand                        object\n",
      "model                        object\n",
      "year                         object\n",
      "price_in_euro                object\n",
      "power_kw                     object\n",
      "power_ps                     object\n",
      "transmission_type            object\n",
      "fuel_type                    object\n",
      "fuel_consumption_l_100km     object\n",
      "fuel_consumption_g_km        object\n",
      "mileage_in_km               float64\n",
      "dtype: object\n"
     ]
    }
   ],
   "source": [
    "print(df.dtypes)"
   ]
  },
  {
   "cell_type": "code",
   "execution_count": 9,
   "metadata": {},
   "outputs": [
    {
     "name": "stdout",
     "output_type": "stream",
     "text": [
      "Unnamed: 0                    int64\n",
      "brand                        object\n",
      "model                        object\n",
      "year                        float64\n",
      "price_in_euro               float64\n",
      "power_kw                    float64\n",
      "power_ps                    float64\n",
      "transmission_type            object\n",
      "fuel_type                    object\n",
      "fuel_consumption_l_100km     object\n",
      "fuel_consumption_g_km        object\n",
      "mileage_in_km               float64\n",
      "dtype: object\n"
     ]
    }
   ],
   "source": [
    "# Step 1: Convert 'year' to numeric\n",
    "df['year'] = pd.to_numeric(df['year'], errors='coerce')\n",
    "\n",
    "# Step 2: Convert 'price_in_euro' to numeric \n",
    "df['price_in_euro'] = pd.to_numeric(df['price_in_euro'], errors='coerce')\n",
    "\n",
    "# Step 3: Convert 'power_kw' and 'power_ps' to numeric\n",
    "df['power_kw'] = pd.to_numeric(df['power_kw'], errors='coerce')\n",
    "df['power_ps'] = pd.to_numeric(df['power_ps'], errors='coerce')\n",
    "\n",
    "print(df.dtypes)"
   ]
  },
  {
   "cell_type": "code",
   "execution_count": 10,
   "metadata": {},
   "outputs": [
    {
     "name": "stdout",
     "output_type": "stream",
     "text": [
      "Unnamed: 0                    int64\n",
      "brand                        object\n",
      "model                        object\n",
      "year                        float64\n",
      "price_in_euro               float64\n",
      "power_kw                    float64\n",
      "power_ps                    float64\n",
      "transmission_type            object\n",
      "fuel_type                    object\n",
      "fuel_consumption_l_100km    float64\n",
      "fuel_consumption_g_km        object\n",
      "mileage_in_km               float64\n",
      "dtype: object\n"
     ]
    }
   ],
   "source": [
    "# Step 4: Clean 'fuel_consumption_l_100km' and convert to numeric\n",
    "df['fuel_consumption_l_100km'] = df['fuel_consumption_l_100km'].str.replace(' l/100 km', '')\n",
    "df['fuel_consumption_l_100km'] = pd.to_numeric(df['fuel_consumption_l_100km'], errors='coerce')\n",
    "\n",
    "print(df.dtypes)"
   ]
  },
  {
   "cell_type": "code",
   "execution_count": 13,
   "metadata": {},
   "outputs": [
    {
     "name": "stdout",
     "output_type": "stream",
     "text": [
      "0    10,9 l/100 km\n",
      "1              NaN\n",
      "2              NaN\n",
      "3     9,5 l/100 km\n",
      "4     7,2 l/100 km\n",
      "Name: fuel_consumption_l_100km, dtype: object\n"
     ]
    }
   ],
   "source": [
    "original_data = pd.read_csv('data.csv', usecols=['fuel_consumption_l_100km'])\n",
    "df['fuel_consumption_l_100km'] = original_data['fuel_consumption_l_100km']\n",
    "print(df['fuel_consumption_l_100km'].head())"
   ]
  },
  {
   "cell_type": "code",
   "execution_count": 14,
   "metadata": {},
   "outputs": [
    {
     "name": "stdout",
     "output_type": "stream",
     "text": [
      "0    10.9\n",
      "1     NaN\n",
      "2     NaN\n",
      "3     9.5\n",
      "4     7.2\n",
      "Name: fuel_consumption_l_100km, dtype: float64\n"
     ]
    }
   ],
   "source": [
    "# Step 4: Clean 'fuel_consumption_l_100km' and convert to numeric\n",
    "df['fuel_consumption_l_100km'] = df['fuel_consumption_l_100km'].str.strip()\n",
    "df['fuel_consumption_l_100km'] = df['fuel_consumption_l_100km'].str.replace(' l/100 km', '', regex=False)\n",
    "df['fuel_consumption_l_100km'] = df['fuel_consumption_l_100km'].str.replace(',', '.', regex=False)\n",
    "\n",
    "df['fuel_consumption_l_100km'] = pd.to_numeric(df['fuel_consumption_l_100km'], errors='coerce')\n",
    "print(df['fuel_consumption_l_100km'].head())"
   ]
  },
  {
   "cell_type": "markdown",
   "metadata": {},
   "source": [
    "Handle power_kw and power_ps:\n",
    "\n",
    "These columns contain engine power information. Since they're related (1 kW = 1.36 PS), we can fill missing values based on their relationship."
   ]
  },
  {
   "cell_type": "code",
   "execution_count": 15,
   "metadata": {},
   "outputs": [
    {
     "name": "stdout",
     "output_type": "stream",
     "text": [
      "power_kw    0\n",
      "power_ps    0\n",
      "dtype: int64\n"
     ]
    }
   ],
   "source": [
    "df['power_kw'] = df['power_kw'].fillna(df['power_ps'] * 0.7355)\n",
    "df['power_ps'] = df['power_ps'].fillna(df['power_kw'] * 1.36)\n",
    "\n",
    "df['power_kw'].fillna(df['power_kw'].median(), inplace=True)\n",
    "df['power_ps'].fillna(df['power_ps'].median(), inplace=True)\n",
    "\n",
    "print(df[['power_kw', 'power_ps']].isnull().sum())"
   ]
  },
  {
   "cell_type": "markdown",
   "metadata": {},
   "source": [
    "Handle fuel_consumption_l_100km:\n",
    "\n",
    "The fuel consumption column has a large number of missing values. We can fill these missing values based on similar rows (e.g., same model, year, and fuel type). "
   ]
  },
  {
   "cell_type": "code",
   "execution_count": 17,
   "metadata": {},
   "outputs": [
    {
     "name": "stdout",
     "output_type": "stream",
     "text": [
      "0\n"
     ]
    }
   ],
   "source": [
    "df['fuel_consumption_l_100km'] = df.groupby(['model', 'year', 'fuel_type'])['fuel_consumption_l_100km'].transform(lambda x: x.fillna(x.median()))\n",
    "df['fuel_consumption_l_100km'].fillna(df['fuel_consumption_l_100km'].median(), inplace=True)\n",
    "\n",
    "print(df['fuel_consumption_l_100km'].isnull().sum())"
   ]
  },
  {
   "cell_type": "markdown",
   "metadata": {},
   "source": [
    " Handle mileage_in_km: \n",
    " \n",
    " We fill the missing mileage values using the approximation (2023 - year) * average_mileage_per_year, while leaving the existing mileage values intact. "
   ]
  },
  {
   "cell_type": "code",
   "execution_count": null,
   "metadata": {},
   "outputs": [],
   "source": [
    "# Assuming an average mileage of 15,000 km per year\n",
    "average_mileage_per_year = 15000\n",
    "\n",
    "df['year'] = df['year'].apply(lambda x: min(int(x), 2023)) \n",
    "\n",
    "df['mileage_in_km'] = df['mileage_in_km'].fillna((2023 - df['year']) * average_mileage_per_year).astype('float64')\n",
    "\n",
    "print(\"Missing values in 'mileage_in_km':\", df['mileage_in_km'].isnull().sum())"
   ]
  },
  {
   "cell_type": "code",
   "execution_count": 19,
   "metadata": {},
   "outputs": [
    {
     "data": {
      "text/plain": [
       "195"
      ]
     },
     "execution_count": 19,
     "metadata": {},
     "output_type": "execute_result"
    }
   ],
   "source": [
    "df['year'].isnull().sum()"
   ]
  },
  {
   "cell_type": "code",
   "execution_count": 22,
   "metadata": {},
   "outputs": [
    {
     "name": "stdout",
     "output_type": "stream",
     "text": [
      "          year\n",
      "0       1995.0\n",
      "1       1995.0\n",
      "2       1995.0\n",
      "3       1995.0\n",
      "4       1996.0\n",
      "...        ...\n",
      "251074  2023.0\n",
      "251075  2023.0\n",
      "251076  2023.0\n",
      "251077  2023.0\n",
      "251078  2023.0\n",
      "\n",
      "[251079 rows x 1 columns]\n"
     ]
    }
   ],
   "source": [
    "df_original_data = pd.read_csv('data.csv')\n",
    "\n",
    "df_original_data['registration_date'] = pd.to_datetime(df_original_data['registration_date'], format='%m/%Y', errors='coerce')\n",
    "df_original_data['year_from_registration'] = df_original_data['registration_date'].dt.year\n",
    "df = df.merge(df_original_data[['Unnamed: 0', 'year_from_registration']], on='Unnamed: 0', how='left')\n",
    "df['year'] = df['year'].fillna(df['year_from_registration'])\n",
    "df.drop(columns=['year_from_registration'], inplace=True)\n",
    "print(df[['year']])"
   ]
  },
  {
   "cell_type": "code",
   "execution_count": 23,
   "metadata": {},
   "outputs": [
    {
     "data": {
      "text/plain": [
       "195"
      ]
     },
     "execution_count": 23,
     "metadata": {},
     "output_type": "execute_result"
    }
   ],
   "source": [
    "df['year'].isnull().sum()"
   ]
  },
  {
   "cell_type": "code",
   "execution_count": 25,
   "metadata": {},
   "outputs": [
    {
     "name": "stdout",
     "output_type": "stream",
     "text": [
      "Remaining rows after dropping missing values in 'year': 250884\n",
      "Missing values in the DataFrame after dropping rows: Unnamed: 0                   0\n",
      "brand                        0\n",
      "model                        0\n",
      "year                         0\n",
      "price_in_euro                4\n",
      "power_kw                     0\n",
      "power_ps                     0\n",
      "transmission_type            0\n",
      "fuel_type                    0\n",
      "fuel_consumption_l_100km     0\n",
      "fuel_consumption_g_km        0\n",
      "mileage_in_km               66\n",
      "dtype: int64\n"
     ]
    }
   ],
   "source": [
    "df = df.dropna(subset=['year'])\n",
    "\n",
    "print(\"Remaining rows after dropping missing values in 'year':\", df.shape[0])\n",
    "print(\"Missing values in the DataFrame after dropping rows:\", df.isnull().sum())"
   ]
  },
  {
   "cell_type": "code",
   "execution_count": 26,
   "metadata": {},
   "outputs": [
    {
     "name": "stdout",
     "output_type": "stream",
     "text": [
      "Remaining rows after dropping rows with missing values: 250818\n"
     ]
    }
   ],
   "source": [
    "df = df.dropna(subset=['price_in_euro', 'mileage_in_km'])\n",
    "print(\"Remaining rows after dropping rows with missing values:\", df.shape[0])"
   ]
  },
  {
   "cell_type": "code",
   "execution_count": 33,
   "metadata": {},
   "outputs": [],
   "source": [
    "df.drop(columns=['power_ps'], inplace=True)"
   ]
  },
  {
   "cell_type": "code",
   "execution_count": 44,
   "metadata": {},
   "outputs": [],
   "source": [
    "df.drop(columns=['fuel_consumption_g_km'], inplace=True)"
   ]
  },
  {
   "cell_type": "markdown",
   "metadata": {},
   "source": [
    "Exploratory Data Analysis (EDA)"
   ]
  },
  {
   "cell_type": "code",
   "execution_count": 34,
   "metadata": {},
   "outputs": [
    {
     "name": "stdout",
     "output_type": "stream",
     "text": [
      "          Unnamed: 0           year  price_in_euro       power_kw  \\\n",
      "count  250818.000000  250818.000000   2.508180e+05  250818.000000   \n",
      "mean   125532.978451    2016.261552   2.613688e+04     126.220977   \n",
      "std     72483.214299       5.462751   3.699225e+04      72.006528   \n",
      "min         0.000000    1995.000000   1.200000e+02       1.000000   \n",
      "25%     62771.250000    2013.000000   1.199000e+04      82.000000   \n",
      "50%    125529.500000    2018.000000   1.989000e+04     110.000000   \n",
      "75%    188298.750000    2020.000000   2.995000e+04     140.000000   \n",
      "max    251078.000000    2023.000000   5.890500e+06     735.000000   \n",
      "\n",
      "       fuel_consumption_l_100km  mileage_in_km  \n",
      "count             250818.000000   2.508180e+05  \n",
      "mean                   6.073303   8.536867e+04  \n",
      "std                    2.563872   7.872133e+04  \n",
      "min                    0.000000   0.000000e+00  \n",
      "25%                    4.900000   2.495000e+04  \n",
      "50%                    5.700000   6.751500e+04  \n",
      "75%                    6.700000   1.265385e+05  \n",
      "max                  173.000000   3.800000e+06  \n"
     ]
    }
   ],
   "source": [
    "print(df.describe())"
   ]
  },
  {
   "cell_type": "code",
   "execution_count": 35,
   "metadata": {},
   "outputs": [
    {
     "name": "stderr",
     "output_type": "stream",
     "text": [
      "c:\\Users\\aicha\\anaconda3\\lib\\site-packages\\seaborn\\_oldcore.py:1119: FutureWarning: use_inf_as_na option is deprecated and will be removed in a future version. Convert inf values to NaN before operating instead.\n",
      "  with pd.option_context('mode.use_inf_as_na', True):\n"
     ]
    },
    {
     "data": {
      "text/plain": [
       "<Axes: xlabel='price_in_euro', ylabel='Count'>"
      ]
     },
     "execution_count": 35,
     "metadata": {},
     "output_type": "execute_result"
    },
    {
     "data": {
      "image/png": "[encoded data removed]",
      "text/plain": [
       "<Figure size 640x480 with 1 Axes>"
      ]
     },
     "metadata": {},
     "output_type": "display_data"
    }
   ],
   "source": [
    "sns.histplot(df['price_in_euro'], bins=100, kde=True)  "
   ]
  },
  {
   "cell_type": "code",
   "execution_count": 36,
   "metadata": {},
   "outputs": [
    {
     "data": {
      "image/png": "[encoded data removed]",
      "text/plain": [
       "<Figure size 640x480 with 1 Axes>"
      ]
     },
     "metadata": {},
     "output_type": "display_data"
    }
   ],
   "source": [
    "sns.boxplot(x='brand', y='price_in_euro', data=df)\n",
    "plt.xticks(rotation=90)\n",
    "plt.title('Price Distribution by Brand')\n",
    "plt.show()"
   ]
  },
  {
   "cell_type": "code",
   "execution_count": 37,
   "metadata": {},
   "outputs": [
    {
     "data": {
      "image/png": "[encoded data removed]",
      "text/plain": [
       "<Figure size 640x480 with 2 Axes>"
      ]
     },
     "metadata": {},
     "output_type": "display_data"
    }
   ],
   "source": [
    "numeric_df = df.select_dtypes(include=['float64', 'int64'])  # Select only numeric columns\n",
    "correlation_matrix = numeric_df.corr()\n",
    "sns.heatmap(correlation_matrix, annot=True, fmt=\".2f\", cmap=\"coolwarm\")\n",
    "plt.title('Correlation Matrix')\n",
    "plt.show()"
   ]
  },
  {
   "cell_type": "markdown",
   "metadata": {},
   "source": [
    "Feature Engineering"
   ]
  },
  {
   "cell_type": "code",
   "execution_count": 38,
   "metadata": {},
   "outputs": [],
   "source": [
    "df['car_age'] = 2023 - df['year']"
   ]
  },
  {
   "cell_type": "code",
   "execution_count": 39,
   "metadata": {},
   "outputs": [],
   "source": [
    "df['fuel_efficiency'] = 100 / df['fuel_consumption_l_100km']  # l/100 km to km/l"
   ]
  },
  {
   "cell_type": "code",
   "execution_count": 45,
   "metadata": {},
   "outputs": [
    {
     "data": {
      "text/html": [
       "<div>\n",
       "<style scoped>\n",
       "    .dataframe tbody tr th:only-of-type {\n",
       "        vertical-align: middle;\n",
       "    }\n",
       "\n",
       "    .dataframe tbody tr th {\n",
       "        vertical-align: top;\n",
       "    }\n",
       "\n",
       "    .dataframe thead th {\n",
       "        text-align: right;\n",
       "    }\n",
       "</style>\n",
       "<table border=\"1\" class=\"dataframe\">\n",
       "  <thead>\n",
       "    <tr style=\"text-align: right;\">\n",
       "      <th></th>\n",
       "      <th>Unnamed: 0</th>\n",
       "      <th>brand</th>\n",
       "      <th>model</th>\n",
       "      <th>year</th>\n",
       "      <th>price_in_euro</th>\n",
       "      <th>power_kw</th>\n",
       "      <th>transmission_type</th>\n",
       "      <th>fuel_type</th>\n",
       "      <th>fuel_consumption_l_100km</th>\n",
       "      <th>mileage_in_km</th>\n",
       "      <th>car_age</th>\n",
       "      <th>fuel_efficiency</th>\n",
       "    </tr>\n",
       "  </thead>\n",
       "  <tbody>\n",
       "    <tr>\n",
       "      <th>0</th>\n",
       "      <td>0</td>\n",
       "      <td>alfa-romeo</td>\n",
       "      <td>Alfa Romeo GTV</td>\n",
       "      <td>1995.0</td>\n",
       "      <td>1300.0</td>\n",
       "      <td>148.0</td>\n",
       "      <td>Manual</td>\n",
       "      <td>Petrol</td>\n",
       "      <td>10.9</td>\n",
       "      <td>160500.0</td>\n",
       "      <td>28.0</td>\n",
       "      <td>9.174312</td>\n",
       "    </tr>\n",
       "    <tr>\n",
       "      <th>1</th>\n",
       "      <td>1</td>\n",
       "      <td>alfa-romeo</td>\n",
       "      <td>Alfa Romeo 164</td>\n",
       "      <td>1995.0</td>\n",
       "      <td>24900.0</td>\n",
       "      <td>191.0</td>\n",
       "      <td>Manual</td>\n",
       "      <td>Petrol</td>\n",
       "      <td>5.7</td>\n",
       "      <td>190000.0</td>\n",
       "      <td>28.0</td>\n",
       "      <td>17.543860</td>\n",
       "    </tr>\n",
       "    <tr>\n",
       "      <th>2</th>\n",
       "      <td>2</td>\n",
       "      <td>alfa-romeo</td>\n",
       "      <td>Alfa Romeo Spider</td>\n",
       "      <td>1995.0</td>\n",
       "      <td>5900.0</td>\n",
       "      <td>110.0</td>\n",
       "      <td>Unknown</td>\n",
       "      <td>Petrol</td>\n",
       "      <td>9.5</td>\n",
       "      <td>129000.0</td>\n",
       "      <td>28.0</td>\n",
       "      <td>10.526316</td>\n",
       "    </tr>\n",
       "    <tr>\n",
       "      <th>3</th>\n",
       "      <td>3</td>\n",
       "      <td>alfa-romeo</td>\n",
       "      <td>Alfa Romeo Spider</td>\n",
       "      <td>1995.0</td>\n",
       "      <td>4900.0</td>\n",
       "      <td>110.0</td>\n",
       "      <td>Manual</td>\n",
       "      <td>Petrol</td>\n",
       "      <td>9.5</td>\n",
       "      <td>189500.0</td>\n",
       "      <td>28.0</td>\n",
       "      <td>10.526316</td>\n",
       "    </tr>\n",
       "    <tr>\n",
       "      <th>4</th>\n",
       "      <td>4</td>\n",
       "      <td>alfa-romeo</td>\n",
       "      <td>Alfa Romeo 164</td>\n",
       "      <td>1996.0</td>\n",
       "      <td>17950.0</td>\n",
       "      <td>132.0</td>\n",
       "      <td>Manual</td>\n",
       "      <td>Petrol</td>\n",
       "      <td>7.2</td>\n",
       "      <td>96127.0</td>\n",
       "      <td>27.0</td>\n",
       "      <td>13.888889</td>\n",
       "    </tr>\n",
       "  </tbody>\n",
       "</table>\n",
       "</div>"
      ],
      "text/plain": [
       "   Unnamed: 0       brand              model    year  price_in_euro  power_kw  \\\n",
       "0           0  alfa-romeo     Alfa Romeo GTV  1995.0         1300.0     148.0   \n",
       "1           1  alfa-romeo     Alfa Romeo 164  1995.0        24900.0     191.0   \n",
       "2           2  alfa-romeo  Alfa Romeo Spider  1995.0         5900.0     110.0   \n",
       "3           3  alfa-romeo  Alfa Romeo Spider  1995.0         4900.0     110.0   \n",
       "4           4  alfa-romeo     Alfa Romeo 164  1996.0        17950.0     132.0   \n",
       "\n",
       "  transmission_type fuel_type  fuel_consumption_l_100km  mileage_in_km  \\\n",
       "0            Manual    Petrol                      10.9       160500.0   \n",
       "1            Manual    Petrol                       5.7       190000.0   \n",
       "2           Unknown    Petrol                       9.5       129000.0   \n",
       "3            Manual    Petrol                       9.5       189500.0   \n",
       "4            Manual    Petrol                       7.2        96127.0   \n",
       "\n",
       "   car_age  fuel_efficiency  \n",
       "0     28.0         9.174312  \n",
       "1     28.0        17.543860  \n",
       "2     28.0        10.526316  \n",
       "3     28.0        10.526316  \n",
       "4     27.0        13.888889  "
      ]
     },
     "execution_count": 45,
     "metadata": {},
     "output_type": "execute_result"
    }
   ],
   "source": [
    "df.head()"
   ]
  },
  {
   "cell_type": "markdown",
   "metadata": {},
   "source": [
    "Data Visualization"
   ]
  },
  {
   "cell_type": "code",
   "execution_count": 40,
   "metadata": {},
   "outputs": [
    {
     "data": {
      "image/png": "[encoded data removed]",
      "text/plain": [
       "<Figure size 640x480 with 1 Axes>"
      ]
     },
     "metadata": {},
     "output_type": "display_data"
    }
   ],
   "source": [
    "sns.scatterplot(x='power_kw', y='price_in_euro', data=df)\n",
    "plt.title('Price vs Power')\n",
    "plt.show()"
   ]
  },
  {
   "cell_type": "code",
   "execution_count": 41,
   "metadata": {},
   "outputs": [
    {
     "data": {
      "image/png": "[encoded data removed]",
      "text/plain": [
       "<Figure size 640x480 with 1 Axes>"
      ]
     },
     "metadata": {},
     "output_type": "display_data"
    }
   ],
   "source": [
    "avg_price_by_transmission = df.groupby('transmission_type')['price_in_euro'].mean().reset_index()\n",
    "sns.barplot(x='transmission_type', y='price_in_euro', data=avg_price_by_transmission)\n",
    "plt.title('Average Price by Transmission Type')\n",
    "plt.show()"
   ]
  },
  {
   "cell_type": "markdown",
   "metadata": {},
   "source": [
    "Modeling"
   ]
  },
  {
   "cell_type": "code",
   "execution_count": 48,
   "metadata": {},
   "outputs": [],
   "source": [
    "from sklearn.linear_model import LinearRegression\n",
    "from sklearn.tree import DecisionTreeRegressor\n",
    "from sklearn.ensemble import RandomForestRegressor\n",
    "from sklearn.ensemble import GradientBoostingRegressor\n",
    "from sklearn.svm import SVR"
   ]
  },
  {
   "cell_type": "code",
   "execution_count": 51,
   "metadata": {},
   "outputs": [],
   "source": [
    "# One-hot encoding for categorical variables\n",
    "df_encoded = pd.get_dummies(df, columns=['transmission_type', 'fuel_type'], drop_first=True)\n",
    "\n",
    "# Splitting the dataset\n",
    "X = df_encoded.drop(['price_in_euro'], axis=1)  # Features\n",
    "y = df_encoded['price_in_euro']  # Target variable\n",
    "\n",
    "X_train, X_test, y_train, y_test = train_test_split(X, y, test_size=0.2, random_state=42)"
   ]
  },
  {
   "cell_type": "code",
   "execution_count": 60,
   "metadata": {},
   "outputs": [],
   "source": [
    "import pandas as pd\n",
    "\n",
    "# Assuming X_train and X_test are your training and testing DataFrames\n",
    "# Convert categorical columns to numerical using one-hot encoding\n",
    "X_train = pd.get_dummies(X_train, drop_first=True)\n",
    "X_test = pd.get_dummies(X_test, drop_first=True)\n",
    "\n",
    "# Ensure that both train and test have the same columns\n",
    "X_train, X_test = X_train.align(X_test, join='left', axis=1, fill_value=0)"
   ]
  },
  {
   "cell_type": "code",
   "execution_count": 62,
   "metadata": {},
   "outputs": [
    {
     "name": "stdout",
     "output_type": "stream",
     "text": [
      "Unnamed: 0                            0\n",
      "year                                  0\n",
      "power_kw                              0\n",
      "fuel_consumption_l_100km              0\n",
      "mileage_in_km                         0\n",
      "                                     ..\n",
      "model_smart city-coupé/city-cabrio    0\n",
      "model_smart forFour                   0\n",
      "model_smart forTwo                    0\n",
      "model_smart roadster                  0\n",
      "model_smart smart #1                  0\n",
      "Length: 1347, dtype: int64\n",
      "Unnamed: 0                            0\n",
      "year                                  0\n",
      "power_kw                              0\n",
      "fuel_consumption_l_100km              0\n",
      "mileage_in_km                         0\n",
      "                                     ..\n",
      "model_smart city-coupé/city-cabrio    0\n",
      "model_smart forFour                   0\n",
      "model_smart forTwo                    0\n",
      "model_smart roadster                  0\n",
      "model_smart smart #1                  0\n",
      "Length: 1347, dtype: int64\n",
      "Unnamed: 0                            0\n",
      "year                                  0\n",
      "power_kw                              0\n",
      "fuel_consumption_l_100km              0\n",
      "mileage_in_km                         0\n",
      "                                     ..\n",
      "model_smart city-coupé/city-cabrio    0\n",
      "model_smart forFour                   0\n",
      "model_smart forTwo                    0\n",
      "model_smart roadster                  0\n",
      "model_smart smart #1                  0\n",
      "Length: 1347, dtype: int64\n"
     ]
    }
   ],
   "source": [
    "# Check for NaN values\n",
    "print(X_train.isna().sum())\n",
    "\n",
    "# Check for infinite values\n",
    "print((X_train == float('inf')).sum())\n",
    "print((X_train == float('-inf')).sum())"
   ]
  },
  {
   "cell_type": "code",
   "execution_count": 63,
   "metadata": {},
   "outputs": [
    {
     "name": "stdout",
     "output_type": "stream",
     "text": [
      "Infinite values in training set:\n",
      "Unnamed: 0                            0\n",
      "year                                  0\n",
      "power_kw                              0\n",
      "fuel_consumption_l_100km              0\n",
      "mileage_in_km                         0\n",
      "                                     ..\n",
      "model_smart city-coupé/city-cabrio    0\n",
      "model_smart forFour                   0\n",
      "model_smart forTwo                    0\n",
      "model_smart roadster                  0\n",
      "model_smart smart #1                  0\n",
      "Length: 1347, dtype: int64\n",
      "Unnamed: 0                            0\n",
      "year                                  0\n",
      "power_kw                              0\n",
      "fuel_consumption_l_100km              0\n",
      "mileage_in_km                         0\n",
      "                                     ..\n",
      "model_smart city-coupé/city-cabrio    0\n",
      "model_smart forFour                   0\n",
      "model_smart forTwo                    0\n",
      "model_smart roadster                  0\n",
      "model_smart smart #1                  0\n",
      "Length: 1347, dtype: int64\n",
      "Infinite values in test set:\n",
      "Unnamed: 0                            0\n",
      "year                                  0\n",
      "power_kw                              0\n",
      "fuel_consumption_l_100km              0\n",
      "mileage_in_km                         0\n",
      "                                     ..\n",
      "model_smart city-coupé/city-cabrio    0\n",
      "model_smart forFour                   0\n",
      "model_smart forTwo                    0\n",
      "model_smart roadster                  0\n",
      "model_smart smart #1                  0\n",
      "Length: 1347, dtype: int64\n",
      "Unnamed: 0                            0\n",
      "year                                  0\n",
      "power_kw                              0\n",
      "fuel_consumption_l_100km              0\n",
      "mileage_in_km                         0\n",
      "                                     ..\n",
      "model_smart city-coupé/city-cabrio    0\n",
      "model_smart forFour                   0\n",
      "model_smart forTwo                    0\n",
      "model_smart roadster                  0\n",
      "model_smart smart #1                  0\n",
      "Length: 1347, dtype: int64\n"
     ]
    }
   ],
   "source": [
    "# Check for infinite values\n",
    "print(\"Infinite values in training set:\")\n",
    "print((X_train == float('inf')).sum())\n",
    "print((X_train == float('-inf')).sum())\n",
    "\n",
    "# Check for infinite values in the test set as well\n",
    "print(\"Infinite values in test set:\")\n",
    "print((X_test == float('inf')).sum())\n",
    "print((X_test == float('-inf')).sum())"
   ]
  },
  {
   "cell_type": "code",
   "execution_count": 64,
   "metadata": {},
   "outputs": [
    {
     "name": "stdout",
     "output_type": "stream",
     "text": [
      "Maximum values in training set:\n",
      "Unnamed: 0                               251078\n",
      "year                                     2023.0\n",
      "power_kw                                  735.0\n",
      "fuel_consumption_l_100km                  173.0\n",
      "mileage_in_km                         3800000.0\n",
      "                                        ...    \n",
      "model_smart city-coupé/city-cabrio         True\n",
      "model_smart forFour                        True\n",
      "model_smart forTwo                         True\n",
      "model_smart roadster                       True\n",
      "model_smart smart #1                       True\n",
      "Length: 1347, dtype: object\n",
      "Maximum values in test set:\n",
      "Unnamed: 0                               251077\n",
      "year                                     2023.0\n",
      "power_kw                                  735.0\n",
      "fuel_consumption_l_100km                  146.0\n",
      "mileage_in_km                         2100000.0\n",
      "                                        ...    \n",
      "model_smart city-coupé/city-cabrio         True\n",
      "model_smart forFour                        True\n",
      "model_smart forTwo                         True\n",
      "model_smart roadster                       True\n",
      "model_smart smart #1                          0\n",
      "Length: 1347, dtype: object\n"
     ]
    }
   ],
   "source": [
    "# Display the maximum values in the training set\n",
    "print(\"Maximum values in training set:\")\n",
    "print(X_train.max())\n",
    "\n",
    "# Display the maximum values in the test set\n",
    "print(\"Maximum values in test set:\")\n",
    "print(X_test.max())"
   ]
  },
  {
   "cell_type": "code",
   "execution_count": 67,
   "metadata": {},
   "outputs": [],
   "source": [
    "# Define a threshold for mileage\n",
    "mileage_threshold = X_train['mileage_in_km'].quantile(0.99)\n",
    "\n",
    "# Cap values above this threshold\n",
    "X_train['mileage_in_km'] = X_train['mileage_in_km'].clip(upper=mileage_threshold)\n",
    "X_test['mileage_in_km'] = X_test['mileage_in_km'].clip(upper=mileage_threshold)"
   ]
  },
  {
   "cell_type": "code",
   "execution_count": 70,
   "metadata": {},
   "outputs": [],
   "source": [
    "import numpy as np\n",
    "\n",
    "# Replace infinite values with NaN\n",
    "X_train.replace([np.inf, -np.inf], np.nan, inplace=True)\n",
    "X_test.replace([np.inf, -np.inf], np.nan, inplace=True)"
   ]
  },
  {
   "cell_type": "code",
   "execution_count": 71,
   "metadata": {},
   "outputs": [],
   "source": [
    "from sklearn.impute import SimpleImputer\n",
    "\n",
    "imputer = SimpleImputer(strategy='mean')  # or 'median'\n",
    "X_train = imputer.fit_transform(X_train)\n",
    "X_test = imputer.transform(X_test)"
   ]
  },
  {
   "cell_type": "code",
   "execution_count": 72,
   "metadata": {},
   "outputs": [
    {
     "name": "stdout",
     "output_type": "stream",
     "text": [
      "                           MAE           MSE        R2\n",
      "Linear Regression  5560.809816  2.550771e+08  0.775604\n",
      "Decision Tree      4387.977454  2.835427e+08  0.750562\n"
     ]
    }
   ],
   "source": [
    "\n",
    "models = {\n",
    "    'Linear Regression': LinearRegression(),\n",
    "    'Decision Tree': DecisionTreeRegressor(),\n",
    "    # Add other models here if needed\n",
    "}\n",
    "\n",
    "# Function to train and evaluate models\n",
    "def train_and_evaluate_model(model, X_train, y_train, X_test, y_test):\n",
    "    model.fit(X_train, y_train)\n",
    "    y_pred = model.predict(X_test)\n",
    "    \n",
    "    # Evaluate the model\n",
    "    mae = mean_absolute_error(y_test, y_pred)\n",
    "    mse = mean_squared_error(y_test, y_pred)\n",
    "    r2 = r2_score(y_test, y_pred)\n",
    "    \n",
    "    return mae, mse, r2\n",
    "\n",
    "# Train and evaluate each model\n",
    "results = {}\n",
    "for name, model in models.items():\n",
    "    mae, mse, r2 = train_and_evaluate_model(model, X_train, y_train, X_test, y_test)\n",
    "    results[name] = {'MAE': mae, 'MSE': mse, 'R2': r2}\n",
    "\n",
    "# Convert results to DataFrame for better visualization\n",
    "results_df = pd.DataFrame(results).T\n",
    "print(results_df)"
   ]
  },
  {
   "cell_type": "markdown",
   "metadata": {},
   "source": [
    "Metric Interpretation\n",
    "\n",
    "Mean Absolute Error (MAE): The Decision Tree model has a lower MAE, indicating that it generally makes predictions closer to the actual values compared to Linear Regression.\n",
    "\n",
    "Mean Squared Error (MSE): The Decision Tree has a higher MSE, suggesting it has larger errors in some predictions, despite the lower MAE. This could be due to outliers affecting the MSE more significantly.\n",
    "\n",
    "R² (Coefficient of Determination): The R² value indicates that Linear Regression explains about 77.6% of the variance in the dependent variable, while the Decision Tree explains 75.1%. This suggests that Linear Regression may fit the data slightly better."
   ]
  }
 ],
 "metadata": {
  "kernelspec": {
   "display_name": "base",
   "language": "python",
   "name": "python3"
  },
  "language_info": {
   "codemirror_mode": {
    "name": "ipython",
    "version": 3
   },
   "file_extension": ".py",
   "mimetype": "text/x-python",
   "name": "python",
   "nbconvert_exporter": "python",
   "pygments_lexer": "ipython3",
   "version": "3.10.9"
  }
 },
 "nbformat": 4,
 "nbformat_minor": 2
}
